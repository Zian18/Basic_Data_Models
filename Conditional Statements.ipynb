{
 "cells": [
  {
   "cell_type": "code",
   "execution_count": 3,
   "id": "cd31bece",
   "metadata": {},
   "outputs": [
    {
     "name": "stdout",
     "output_type": "stream",
     "text": [
      "horray!\n"
     ]
    }
   ],
   "source": [
    "if 5 == 15/3:\n",
    "    print (\"horray!\")"
   ]
  },
  {
   "cell_type": "code",
   "execution_count": 4,
   "id": "79c86144",
   "metadata": {},
   "outputs": [],
   "source": [
    "if 5 == 17/3:\n",
    "    print (\"horray!\")"
   ]
  },
  {
   "cell_type": "code",
   "execution_count": 6,
   "id": "2f1e4c7c",
   "metadata": {},
   "outputs": [
    {
     "name": "stdout",
     "output_type": "stream",
     "text": [
      "horrayt\n"
     ]
    }
   ],
   "source": [
    "if 5 != 3*6:\n",
    "  print(\"horrayt\")"
   ]
  },
  {
   "cell_type": "code",
   "execution_count": 8,
   "id": "e05bcf0d",
   "metadata": {},
   "outputs": [
    {
     "name": "stdout",
     "output_type": "stream",
     "text": [
      "case 2\n"
     ]
    }
   ],
   "source": [
    "x=1\n",
    "\n",
    "if x>3:\n",
    "    print (\"Case1\")\n",
    "else:\n",
    "    print (\"case 2\")"
   ]
  },
  {
   "cell_type": "code",
   "execution_count": 10,
   "id": "ce91e9a7",
   "metadata": {},
   "outputs": [],
   "source": [
    "def comapre_to_five(y):\n",
    "    if y > 5:\n",
    "        return (\"Greater\")\n",
    "    elif y < 5:\n",
    "        return \"Less\"\n",
    "    else:\n",
    "        return \"Equal\""
   ]
  },
  {
   "cell_type": "code",
   "execution_count": 12,
   "id": "45812470",
   "metadata": {},
   "outputs": [
    {
     "name": "stdout",
     "output_type": "stream",
     "text": [
      "Greater\n"
     ]
    }
   ],
   "source": [
    "print (comapre_to_five(10))"
   ]
  },
  {
   "cell_type": "code",
   "execution_count": 13,
   "id": "fb185c64",
   "metadata": {},
   "outputs": [
    {
     "name": "stdout",
     "output_type": "stream",
     "text": [
      "Less\n"
     ]
    }
   ],
   "source": [
    "print (comapre_to_five(4))"
   ]
  },
  {
   "cell_type": "code",
   "execution_count": 14,
   "id": "e58658bc",
   "metadata": {},
   "outputs": [
    {
     "name": "stdout",
     "output_type": "stream",
     "text": [
      "Equal\n"
     ]
    }
   ],
   "source": [
    "print (comapre_to_five(5))"
   ]
  },
  {
   "cell_type": "code",
   "execution_count": null,
   "id": "2c5f65fd",
   "metadata": {},
   "outputs": [],
   "source": []
  }
 ],
 "metadata": {
  "kernelspec": {
   "display_name": "Python 3 (ipykernel)",
   "language": "python",
   "name": "python3"
  },
  "language_info": {
   "codemirror_mode": {
    "name": "ipython",
    "version": 3
   },
   "file_extension": ".py",
   "mimetype": "text/x-python",
   "name": "python",
   "nbconvert_exporter": "python",
   "pygments_lexer": "ipython3",
   "version": "3.9.6"
  }
 },
 "nbformat": 4,
 "nbformat_minor": 5
}
