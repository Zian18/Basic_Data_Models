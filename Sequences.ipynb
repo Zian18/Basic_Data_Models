{
 "cells": [
  {
   "cell_type": "code",
   "execution_count": 1,
   "id": "5dacdbdf",
   "metadata": {},
   "outputs": [],
   "source": [
    "#list"
   ]
  },
  {
   "cell_type": "code",
   "execution_count": 2,
   "id": "e28d0c71",
   "metadata": {},
   "outputs": [
    {
     "data": {
      "text/plain": [
       "['Lila', 'Gregory', 'MAxwell', 'Gandha']"
      ]
     },
     "execution_count": 2,
     "metadata": {},
     "output_type": "execute_result"
    }
   ],
   "source": [
    "Participants = [\"Lila\", \"Gregory\", \"MAxwell\", \"Gandha\"]\n",
    "Participants"
   ]
  },
  {
   "cell_type": "code",
   "execution_count": 7,
   "id": "70fe065a",
   "metadata": {},
   "outputs": [
    {
     "name": "stdout",
     "output_type": "stream",
     "text": [
      "Name of List MAxwell\n"
     ]
    }
   ],
   "source": [
    "print('Name of List', Participants [2])"
   ]
  },
  {
   "cell_type": "code",
   "execution_count": 9,
   "id": "f9e9095b",
   "metadata": {},
   "outputs": [
    {
     "data": {
      "text/plain": [
       "['Lila', 'Gregory', 'MAxwell', 'Maria']"
      ]
     },
     "execution_count": 9,
     "metadata": {},
     "output_type": "execute_result"
    }
   ],
   "source": [
    "Participants [3] = 'Maria'\n",
    "Participants"
   ]
  },
  {
   "cell_type": "code",
   "execution_count": 10,
   "id": "9cb2c394",
   "metadata": {},
   "outputs": [
    {
     "data": {
      "text/plain": [
       "['Lila', 'Gregory', 'Maria']"
      ]
     },
     "execution_count": 10,
     "metadata": {},
     "output_type": "execute_result"
    }
   ],
   "source": [
    "del Participants [2]\n",
    "Participants"
   ]
  },
  {
   "cell_type": "code",
   "execution_count": 8,
   "id": "1710fda4",
   "metadata": {},
   "outputs": [
    {
     "data": {
      "text/plain": [
       "['Lila', 'Gregory', 'MAxwell', 'Gandha', 'Dwayne', 'Dwayne', 'Dwayne']"
      ]
     },
     "execution_count": 8,
     "metadata": {},
     "output_type": "execute_result"
    }
   ],
   "source": [
    "Participants.append(\"Dwayne\")\n",
    "Participants"
   ]
  },
  {
   "cell_type": "code",
   "execution_count": 10,
   "id": "4d84c2f0",
   "metadata": {
    "scrolled": true
   },
   "outputs": [
    {
     "data": {
      "text/plain": [
       "['Lila',\n",
       " 'Gregory',\n",
       " 'MAxwell',\n",
       " 'Gandha',\n",
       " 'Dwayne',\n",
       " 'Dwayne',\n",
       " 'Dwayne',\n",
       " 'Catherine',\n",
       " 'Johnson']"
      ]
     },
     "execution_count": 10,
     "metadata": {},
     "output_type": "execute_result"
    }
   ],
   "source": [
    "Participants.extend([\"Catherine\", 'Johnson'])\n",
    "Participants"
   ]
  },
  {
   "cell_type": "code",
   "execution_count": 19,
   "id": "50566a10",
   "metadata": {},
   "outputs": [
    {
     "name": "stdout",
     "output_type": "stream",
     "text": [
      "The first participant is Lila.\n"
     ]
    }
   ],
   "source": [
    "print( 'The first participant is '  +  Participants[0] + \".\")"
   ]
  },
  {
   "cell_type": "code",
   "execution_count": 14,
   "id": "256bf152",
   "metadata": {},
   "outputs": [
    {
     "data": {
      "text/plain": [
       "7"
      ]
     },
     "execution_count": 14,
     "metadata": {},
     "output_type": "execute_result"
    }
   ],
   "source": [
    "len('Dolphin')"
   ]
  },
  {
   "cell_type": "code",
   "execution_count": 16,
   "id": "b8e259d2",
   "metadata": {},
   "outputs": [
    {
     "data": {
      "text/plain": [
       "['Dwayne']"
      ]
     },
     "execution_count": 16,
     "metadata": {},
     "output_type": "execute_result"
    }
   ],
   "source": [
    "Participants[5:6]"
   ]
  },
  {
   "cell_type": "code",
   "execution_count": 18,
   "id": "58395262",
   "metadata": {},
   "outputs": [
    {
     "data": {
      "text/plain": [
       "['Catherine', 'Johnson']"
      ]
     },
     "execution_count": 18,
     "metadata": {},
     "output_type": "execute_result"
    }
   ],
   "source": [
    "Participants[-2:]"
   ]
  },
  {
   "cell_type": "code",
   "execution_count": 21,
   "id": "f8018727",
   "metadata": {},
   "outputs": [
    {
     "data": {
      "text/plain": [
       "[1, 2, 3, 4, 5]"
      ]
     },
     "execution_count": 21,
     "metadata": {},
     "output_type": "execute_result"
    }
   ],
   "source": [
    "Numbers = [5,3,2,4,1]\n",
    "Numbers.sort()\n",
    "Numbers"
   ]
  },
  {
   "cell_type": "code",
   "execution_count": 22,
   "id": "4e07cf55",
   "metadata": {},
   "outputs": [],
   "source": [
    "#tuples"
   ]
  },
  {
   "cell_type": "code",
   "execution_count": 28,
   "id": "06ee194a",
   "metadata": {},
   "outputs": [
    {
     "name": "stdout",
     "output_type": "stream",
     "text": [
      "30\n",
      "17\n"
     ]
    }
   ],
   "source": [
    "(age,years_of_schooling) = \"30,17\".split(',')\n",
    "print (age)\n",
    "print (years_of_schooling)"
   ]
  },
  {
   "cell_type": "code",
   "execution_count": 29,
   "id": "1e0e3f9c",
   "metadata": {},
   "outputs": [],
   "source": [
    "def square_info(x):\n",
    "    A = x** 2\n",
    "    P = 4*x\n",
    "    print('Area and Perimiter:')\n",
    "    return A,P\n",
    "square info(3)"
   ]
  },
  {
   "cell_type": "code",
   "execution_count": 30,
   "id": "84ca8e98",
   "metadata": {},
   "outputs": [],
   "source": [
    "#dictionaries"
   ]
  },
  {
   "cell_type": "code",
   "execution_count": 31,
   "id": "da77500f",
   "metadata": {},
   "outputs": [
    {
     "data": {
      "text/plain": [
       "{'k1': 'cat', 'k2': 'dog', 'k3': 'mouse', 'k4': 'fish'}"
      ]
     },
     "execution_count": 31,
     "metadata": {},
     "output_type": "execute_result"
    }
   ],
   "source": [
    "dict= {'k1': 'cat','k2': \"dog\", 'k3': \"mouse\",'k4':\"fish\"}\n",
    "dict"
   ]
  },
  {
   "cell_type": "code",
   "execution_count": 32,
   "id": "df4a1df3",
   "metadata": {},
   "outputs": [
    {
     "data": {
      "text/plain": [
       "'mouse'"
      ]
     },
     "execution_count": 32,
     "metadata": {},
     "output_type": "execute_result"
    }
   ],
   "source": [
    "dict['k3']"
   ]
  },
  {
   "cell_type": "code",
   "execution_count": 34,
   "id": "e6d31159",
   "metadata": {},
   "outputs": [
    {
     "data": {
      "text/plain": [
       "{'k1': 'cat', 'k2': 'dog', 'k3': 'mouse', 'k4': 'fish', 'k5': 'parrot'}"
      ]
     },
     "execution_count": 34,
     "metadata": {},
     "output_type": "execute_result"
    }
   ],
   "source": [
    "dict['k5']='parrot'\n",
    "dict"
   ]
  },
  {
   "cell_type": "code",
   "execution_count": 35,
   "id": "70a4205d",
   "metadata": {},
   "outputs": [],
   "source": [
    "Team = {}\n",
    "Team['Point Guard'] = 'Dirk'\n",
    "Team ['Shooting Guard']= 'Al'\n",
    "Team['Power Forward'] = 'Alexander'"
   ]
  },
  {
   "cell_type": "code",
   "execution_count": 38,
   "id": "9fd6da7c",
   "metadata": {},
   "outputs": [
    {
     "name": "stdout",
     "output_type": "stream",
     "text": [
      "{'Point Guard': 'Dirk', 'Shooting Guard': 'Al', 'Power Forward': 'Alexander'}\n"
     ]
    }
   ],
   "source": [
    "print (Team)"
   ]
  },
  {
   "cell_type": "code",
   "execution_count": 39,
   "id": "4d9d9af9",
   "metadata": {},
   "outputs": [
    {
     "name": "stdout",
     "output_type": "stream",
     "text": [
      "Dirk\n"
     ]
    }
   ],
   "source": [
    "print (Team['Point Guard'])"
   ]
  },
  {
   "cell_type": "code",
   "execution_count": 41,
   "id": "38387a94",
   "metadata": {},
   "outputs": [
    {
     "name": "stdout",
     "output_type": "stream",
     "text": [
      "None\n"
     ]
    }
   ],
   "source": [
    "print (Team.get('Coach'))"
   ]
  },
  {
   "cell_type": "code",
   "execution_count": null,
   "id": "81f1b008",
   "metadata": {},
   "outputs": [],
   "source": []
  }
 ],
 "metadata": {
  "kernelspec": {
   "display_name": "Python 3 (ipykernel)",
   "language": "python",
   "name": "python3"
  },
  "language_info": {
   "codemirror_mode": {
    "name": "ipython",
    "version": 3
   },
   "file_extension": ".py",
   "mimetype": "text/x-python",
   "name": "python",
   "nbconvert_exporter": "python",
   "pygments_lexer": "ipython3",
   "version": "3.9.6"
  }
 },
 "nbformat": 4,
 "nbformat_minor": 5
}
